{
 "cells": [
  {
   "cell_type": "code",
   "execution_count": 1,
   "metadata": {},
   "outputs": [
    {
     "name": "stdout",
     "output_type": "stream",
     "text": [
      "\u001b[36m\u001b[1mProject\u001b[22m\u001b[39m DePasqualeElife2023 v0.1.0\n",
      "\u001b[32m\u001b[1mStatus\u001b[22m\u001b[39m `~/Documents/GitHub/DePasqualeElife2023/Project.toml`\n",
      "  \u001b[90m[324d7699] \u001b[39mCategoricalArrays v0.10.8\n",
      "  \u001b[90m[5ae59095] \u001b[39mColors v0.12.11\n",
      "  \u001b[90m[717857b8] \u001b[39mDSP v0.7.9\n",
      "  \u001b[90m[31c24e10] \u001b[39mDistributions v0.25.109\n",
      "  \u001b[90m[4c728ea3] \u001b[39mFlatten v0.4.3\n",
      "  \u001b[90m[f6369f11] \u001b[39mForwardDiff v0.10.36\n",
      "  \u001b[90m[09f84164] \u001b[39mHypothesisTests v0.11.0\n",
      "  \u001b[90m[d3d80556] \u001b[39mLineSearches v7.2.0\n",
      "  \u001b[90m[23992714] \u001b[39mMAT v0.10.7\n",
      "  \u001b[90m[e1d29d7a] \u001b[39mMissings v1.2.0\n",
      "  \u001b[90m[429524aa] \u001b[39mOptim v1.9.4\n",
      "  \u001b[90m[c2542da2] \u001b[39mPulseInputDDM v0.0.1 `https://github.com/Brody-Lab/PulseInputDDM/#master`\n",
      "  \u001b[90m[d330b81b] \u001b[39mPyPlot v2.11.5\n",
      "  \u001b[90m[8ba89e20] \u001b[39mDistributed\n",
      "  \u001b[90m[37e2e46d] \u001b[39mLinearAlgebra\n",
      "  \u001b[90m[10745b16] \u001b[39mStatistics v1.10.0\n"
     ]
    }
   ],
   "source": [
    "using Pkg\n",
    "Pkg.status()"
   ]
  },
  {
   "cell_type": "code",
   "execution_count": 2,
   "metadata": {},
   "outputs": [],
   "source": [
    "using Distributed\n",
    "addprocs(8); #change to number of logical cores"
   ]
  },
  {
   "cell_type": "code",
   "execution_count": 3,
   "metadata": {},
   "outputs": [],
   "source": [
    "@everywhere using PulseInputDDM, MAT, Flatten\n",
    "import Statistics: mean, median"
   ]
  },
  {
   "cell_type": "code",
   "execution_count": 4,
   "metadata": {},
   "outputs": [],
   "source": [
    "x_joint = Vector(undef, 3);"
   ]
  },
  {
   "cell_type": "code",
   "execution_count": 5,
   "metadata": {},
   "outputs": [],
   "source": [
    "ratnames = [\"B068\",\"T034\",\"T036\",\"T063\",\"T030\", \"T035\",\"T011\",\"B053\", \"T080\",\"T103\",\"E021\"];\n",
    "dt, n, cross = 1e-2, 53, false\n",
    "delay, nconds = 0, 2\n",
    "data_path = joinpath(abspath(joinpath(pwd(), \"..\")), \"data/by_session\")\n",
    "joint_model_path = joinpath(abspath(joinpath(pwd(), \"..\")), \"models/joint\");"
   ]
  },
  {
   "cell_type": "markdown",
   "metadata": {},
   "source": [
    "# FOF"
   ]
  },
  {
   "cell_type": "code",
   "execution_count": 6,
   "metadata": {},
   "outputs": [],
   "source": [
    "file = joinpath(joint_model_path, \"Fig2-FOF.mat\")\n",
    "xf = read(matopen(file), \"ML_params\");\n",
    "x_joint[1] = xf;"
   ]
  },
  {
   "cell_type": "markdown",
   "metadata": {},
   "source": [
    "## Load the neural data"
   ]
  },
  {
   "cell_type": "code",
   "execution_count": 7,
   "metadata": {},
   "outputs": [],
   "source": [
    "ratnum = 1:5\n",
    "rat = ratnames[ratnum];\n",
    "sessions = vcat(map(rat-> filter(x->occursin(rat,x), readdir(data_path)), rat)...);\n",
    "data, μ_rnt_FOF, μ_t = load_neural_data(joinpath.(data_path, sessions), pcut=0.01, pad=20, delay=delay, dt=dt, \n",
    "    filtSD=5, do_RBF=true);\n",
    "μ_t_FOF = vcat(μ_t...);"
   ]
  },
  {
   "cell_type": "code",
   "execution_count": 8,
   "metadata": {},
   "outputs": [],
   "source": [
    "ncells = map(x-> x[1].ncells, data);"
   ]
  },
  {
   "cell_type": "markdown",
   "metadata": {},
   "source": [
    "## Organize the spiking data to produce PSTHs"
   ]
  },
  {
   "cell_type": "code",
   "execution_count": 9,
   "metadata": {},
   "outputs": [],
   "source": [
    "output = process_spike_data.(μ_rnt_FOF, data; nconds=nconds);\n",
    "μ_ct, σ_ct = getindex.(output, 1), getindex.(output, 2);\n",
    "μ_ct_FOF, σ_ct_FOF = vcat(μ_ct...), vcat(σ_ct...);    "
   ]
  },
  {
   "cell_type": "markdown",
   "metadata": {},
   "source": [
    "## Organize data and parameters to simulate spikes from the model"
   ]
  },
  {
   "cell_type": "code",
   "execution_count": 10,
   "metadata": {},
   "outputs": [],
   "source": [
    "f = repeat([\"Softplus\"], sum(ncells))\n",
    "borg = vcat(0,cumsum(ncells))\n",
    "f = [f[i] for i in [borg[i-1]+1:borg[i] for i in 2:length(borg)]];\n",
    "\n",
    "model_FOF = neuralDDM(θ=θneural(x_joint[1][setdiff(1:length(x_joint[1]), 8:9)], f), \n",
    "    data=data, n=n, cross=cross);"
   ]
  },
  {
   "cell_type": "code",
   "execution_count": 11,
   "metadata": {},
   "outputs": [],
   "source": [
    "import PulseInputDDM: simulate_expected_spikes"
   ]
  },
  {
   "cell_type": "code",
   "execution_count": 12,
   "metadata": {},
   "outputs": [],
   "source": [
    "μ_λ_FOF, μ_c_λ, = simulate_expected_firing_rate(model_FOF; num_samples=20, nconds=nconds);\n",
    "μ_c_λ_FOF = vcat(μ_c_λ...);"
   ]
  },
  {
   "cell_type": "markdown",
   "metadata": {},
   "source": [
    "## Compute the error between the empirical and simulated PSTH"
   ]
  },
  {
   "cell_type": "code",
   "execution_count": 13,
   "metadata": {},
   "outputs": [],
   "source": [
    "flatall = map(x-> vcat(map(x-> getindex(x, 1:70), x)...), μ_ct_FOF);\n",
    "flatsim = map(x-> vcat(map(x-> getindex(x, 1:70), x)...), μ_c_λ_FOF);\n",
    "meanall = mean.(flatall);\n",
    "dataminusmean_all = map((x,y) -> x .- y, flatall, meanall);\n",
    "theerror2 = map((x,y) -> x .- y, flatall, flatsim);\n",
    "simR2_FOF = 1 .- sum.(map(x-> x.^2, theerror2)) ./ sum.(map(x-> x.^2, dataminusmean_all));"
   ]
  },
  {
   "cell_type": "markdown",
   "metadata": {},
   "source": [
    "## Reorganize the data into structure types for choices"
   ]
  },
  {
   "cell_type": "code",
   "execution_count": 14,
   "metadata": {},
   "outputs": [],
   "source": [
    "choice_inputs = map(x-> PulseInputDDM.choiceinputs(clicks=x.clicks, binned_clicks=x.binned_clicks, \n",
    "    dt=dt, centered=false), getfield.(vcat(data...), :input_data));\n",
    "choice_data = PulseInputDDM.choicedata.(choice_inputs, getfield.(vcat(data...), :choice));\n",
    "choice_FOF = getfield.(choice_data, :choice);"
   ]
  },
  {
   "cell_type": "code",
   "execution_count": 15,
   "metadata": {},
   "outputs": [],
   "source": [
    "output = map(x-> binLR(x.click_data.binned_clicks, x.click_data.clicks, x.click_data.dt), choice_data);\n",
    "L,R = getindex.(output,1), getindex.(output,2);\n",
    "ΔLR_FOF = last.(cumsum.(-L .+ R));"
   ]
  },
  {
   "cell_type": "code",
   "execution_count": 16,
   "metadata": {},
   "outputs": [],
   "source": [
    "syn_choice_joint_FOF = rand.(Ref(Flatten.reconstruct(θchoice(), x_joint[1][1:9])), choice_inputs, \n",
    "    1:length(choice_inputs));"
   ]
  },
  {
   "cell_type": "markdown",
   "metadata": {},
   "source": [
    "## Compute the logistic functions for the data and the simulated data"
   ]
  },
  {
   "cell_type": "code",
   "execution_count": 17,
   "metadata": {},
   "outputs": [],
   "source": [
    "using Optim, LineSearches, ForwardDiff, Distributions\n",
    "w0 = [0.1, 1., 0.];"
   ]
  },
  {
   "cell_type": "code",
   "execution_count": 18,
   "metadata": {},
   "outputs": [],
   "source": [
    "mylogit(w) = (w[1]/2 .+ (1 .- w[1]) ./ (1. .+ exp.(-w[2]*ΔLR_FOF .+ w[3])));\n",
    "ll(w) = -1 * sum(logpdf.(Bernoulli.(vec(mylogit(w))), choice_FOF))\n",
    "obj = OnceDifferentiable(ll, w0; autodiff=:forward)\n",
    "m = BFGS(alphaguess = InitialStatic(alpha=1.0,scaled=true), linesearch = BackTracking());\n",
    "output = Optim.optimize(obj, [0, -Inf, -Inf], [1., Inf, Inf], w0, Fminbox(m));\n",
    "what_data_FOF = Optim.minimizer(output);"
   ]
  },
  {
   "cell_type": "code",
   "execution_count": 19,
   "metadata": {},
   "outputs": [],
   "source": [
    "x_FOF = sort(ΔLR_FOF);\n",
    "idx_FOF = sortperm(ΔLR_FOF)\n",
    "y_data_FOF = mylogit(what_data_FOF)[idx_FOF];"
   ]
  },
  {
   "cell_type": "code",
   "execution_count": 20,
   "metadata": {},
   "outputs": [],
   "source": [
    "ll(w) = -1 * sum(logpdf.(Bernoulli.(vec(mylogit(w))), syn_choice_joint_FOF))\n",
    "obj = OnceDifferentiable(ll, w0; autodiff=:forward)\n",
    "output = Optim.optimize(obj, [0, -Inf, -Inf], [1., Inf, Inf], w0, Fminbox(m));\n",
    "what_choice_joint_FOF = Optim.minimizer(output);\n",
    "y_choice_joint_FOF = mylogit(what_choice_joint_FOF)[idx_FOF];"
   ]
  },
  {
   "cell_type": "markdown",
   "metadata": {},
   "source": [
    "## Compute box plots around each data point"
   ]
  },
  {
   "cell_type": "code",
   "execution_count": 21,
   "metadata": {},
   "outputs": [],
   "source": [
    "using HypothesisTests, CategoricalArrays\n",
    "labels = string.(1:10);"
   ]
  },
  {
   "cell_type": "code",
   "execution_count": 22,
   "metadata": {},
   "outputs": [],
   "source": [
    "mylogit(w,x) = (w[1]/2 .+ (1 .- w[1]) ./ (1. .+ exp.(-w[2]*x .+ w[3])));"
   ]
  },
  {
   "cell_type": "code",
   "execution_count": 23,
   "metadata": {},
   "outputs": [],
   "source": [
    "LR_FOF = map(x-> mean(ΔLR_FOF[cut(ΔLR_FOF, length(labels), labels=labels) .== x]), labels);\n",
    "ys_FOF_data = map(x-> choice_FOF[cut(ΔLR_FOF, length(labels), labels=labels) .== x], labels);\n",
    "CIs_data_FOF = collect.(confint.(BinomialTest.(ys_FOF_data, mylogit.(Ref(what_data_FOF), LR_FOF))));"
   ]
  },
  {
   "cell_type": "markdown",
   "metadata": {},
   "source": [
    "## PPC"
   ]
  },
  {
   "cell_type": "code",
   "execution_count": 24,
   "metadata": {},
   "outputs": [],
   "source": [
    "file = joinpath(joint_model_path, \"Fig2-PPC.mat\")\n",
    "xf = read(matopen(file), \"ML_params\");\n",
    "x_joint[2] = xf;"
   ]
  },
  {
   "cell_type": "code",
   "execution_count": 25,
   "metadata": {},
   "outputs": [],
   "source": [
    "ratnum = 6:8\n",
    "rat = ratnames[ratnum]\n",
    "sessions = vcat(map(rat-> filter(x->occursin(rat,x), readdir(data_path)), rat)...);\n",
    "data, μ_rnt_PPC, μ_t_PPC = load_neural_data(joinpath.(data_path, sessions), pcut=0.01, pad=20, delay=delay, dt=dt, \n",
    "    filtSD=5, do_RBF=true);"
   ]
  },
  {
   "cell_type": "code",
   "execution_count": 26,
   "metadata": {},
   "outputs": [],
   "source": [
    "μ_t_PPC = vcat(μ_t_PPC...);\n",
    "ncells = map(x-> x[1].ncells, data);"
   ]
  },
  {
   "cell_type": "code",
   "execution_count": 27,
   "metadata": {},
   "outputs": [],
   "source": [
    "output = process_spike_data.(μ_rnt_PPC, data; nconds=nconds);\n",
    "μ_ct, σ_ct = getindex.(output, 1), getindex.(output, 2);\n",
    "μ_ct_PPC, σ_ct_PPC = vcat(μ_ct...), vcat(σ_ct...);"
   ]
  },
  {
   "cell_type": "code",
   "execution_count": 28,
   "metadata": {},
   "outputs": [],
   "source": [
    "f = repeat([\"Softplus\"], sum(ncells))\n",
    "borg = vcat(0,cumsum(ncells))\n",
    "f = [f[i] for i in [borg[i-1]+1:borg[i] for i in 2:length(borg)]];\n",
    "model_PPC = neuralDDM(θ=θneural(x_joint[2][setdiff(1:length(x_joint[2]), 8:9)], f), \n",
    "    data=data, n=n, cross=cross);"
   ]
  },
  {
   "cell_type": "code",
   "execution_count": 29,
   "metadata": {},
   "outputs": [],
   "source": [
    "μ_λ_PPC, μ_c_λ, = simulate_expected_firing_rate(model_PPC; num_samples=20, nconds=nconds); \n",
    "μ_c_λ_PPC = vcat(μ_c_λ...);"
   ]
  },
  {
   "cell_type": "code",
   "execution_count": 30,
   "metadata": {},
   "outputs": [],
   "source": [
    "flatall = map(x-> vcat(map(x-> getindex(x, 1:70), x)...), μ_ct_PPC);\n",
    "flatsim = map(x-> vcat(map(x-> getindex(x, 1:70), x)...), μ_c_λ_PPC);\n",
    "meanall = mean.(flatall);\n",
    "dataminusmean_all = map((x,y) -> x .- y, flatall, meanall);\n",
    "theerror2 = map((x,y) -> x .- y, flatall, flatsim);\n",
    "simR2_PPC = 1 .- sum.(map(x-> x.^2, theerror2)) ./ sum.(map(x-> x.^2, dataminusmean_all));"
   ]
  },
  {
   "cell_type": "code",
   "execution_count": 31,
   "metadata": {},
   "outputs": [],
   "source": [
    "choice_inputs = map(x-> PulseInputDDM.choiceinputs(clicks=x.clicks, binned_clicks=x.binned_clicks, \n",
    "    dt=dt, centered=false), getfield.(vcat(data...), :input_data));\n",
    "choice_data = PulseInputDDM.choicedata.(choice_inputs, getfield.(vcat(data...), :choice));\n",
    "choice_PPC = getfield.(choice_data, :choice);"
   ]
  },
  {
   "cell_type": "code",
   "execution_count": 32,
   "metadata": {},
   "outputs": [],
   "source": [
    "syn_choice_joint_PPC = rand.(Ref(Flatten.reconstruct(θchoice(), x_joint[2][1:9])), choice_inputs, \n",
    "    1:length(choice_inputs));"
   ]
  },
  {
   "cell_type": "code",
   "execution_count": 33,
   "metadata": {},
   "outputs": [],
   "source": [
    "output = map(x-> binLR(x.click_data.binned_clicks, x.click_data.clicks, x.click_data.dt), choice_data);\n",
    "L,R = getindex.(output,1), getindex.(output,2);\n",
    "ΔLR_PPC = last.(cumsum.(-L .+ R));"
   ]
  },
  {
   "cell_type": "code",
   "execution_count": 34,
   "metadata": {},
   "outputs": [],
   "source": [
    "mylogit(w) = (w[1]/2 .+ (1 .- w[1]) ./ (1. .+ exp.(-w[2]*ΔLR_PPC .+ w[3])));"
   ]
  },
  {
   "cell_type": "code",
   "execution_count": 35,
   "metadata": {},
   "outputs": [],
   "source": [
    "ll(w) = -1 * sum(logpdf.(Bernoulli.(vec(mylogit(w))), choice_PPC))\n",
    "obj = OnceDifferentiable(ll, w0; autodiff=:forward)\n",
    "m = BFGS(alphaguess = InitialStatic(alpha=1.0,scaled=true), linesearch = BackTracking());\n",
    "output = Optim.optimize(obj, [0, -Inf, -Inf], [1., Inf, Inf], w0, Fminbox(m));\n",
    "what_data_PPC = Optim.minimizer(output);"
   ]
  },
  {
   "cell_type": "code",
   "execution_count": 36,
   "metadata": {},
   "outputs": [],
   "source": [
    "x_PPC = sort(ΔLR_PPC);\n",
    "idx_PPC = sortperm(ΔLR_PPC)\n",
    "y_data_PPC = mylogit(what_data_PPC)[idx_PPC];"
   ]
  },
  {
   "cell_type": "code",
   "execution_count": 37,
   "metadata": {},
   "outputs": [],
   "source": [
    "ll(w) = -1 * sum(logpdf.(Bernoulli.(vec(mylogit(w))), syn_choice_joint_PPC))\n",
    "obj = OnceDifferentiable(ll, w0; autodiff=:forward)\n",
    "output = Optim.optimize(obj, [0, -Inf, -Inf], [1., Inf, Inf], w0, Fminbox(m));\n",
    "what_choice_joint_PPC = Optim.minimizer(output);\n",
    "y_choice_joint_PPC = mylogit(what_choice_joint_PPC)[idx_PPC];"
   ]
  },
  {
   "cell_type": "code",
   "execution_count": 38,
   "metadata": {},
   "outputs": [],
   "source": [
    "LR_PPC = map(x-> mean(ΔLR_PPC[cut(ΔLR_PPC, length(labels), labels=labels) .== x]), labels);\n",
    "ys_PPC_data = map(x-> choice_PPC[cut(ΔLR_PPC, length(labels), labels=labels) .== x], labels);\n",
    "CIs_data_PPC = collect.(confint.(BinomialTest.(ys_PPC_data, mylogit.(Ref(what_data_PPC), LR_PPC))));"
   ]
  },
  {
   "cell_type": "markdown",
   "metadata": {},
   "source": [
    "## ADS"
   ]
  },
  {
   "cell_type": "code",
   "execution_count": 39,
   "metadata": {},
   "outputs": [],
   "source": [
    "file = joinpath(joint_model_path, \"Fig2-ADS.mat\")\n",
    "xf = read(matopen(file), \"ML_params\");\n",
    "x_joint[3] = xf;"
   ]
  },
  {
   "cell_type": "code",
   "execution_count": 40,
   "metadata": {
    "scrolled": true
   },
   "outputs": [],
   "source": [
    "ratnum = 9:11\n",
    "rat = ratnames[ratnum]\n",
    "sessions = vcat(map(rat-> filter(x->occursin(rat,x), readdir(data_path)), rat)...);\n",
    "data, μ_rnt_STR, μ_t = load_neural_data(joinpath.(data_path, sessions), pcut=0.01, pad=20, delay=delay, dt=dt, \n",
    "    filtSD=5, do_RBF=true);\n",
    "μ_t_STR = vcat(μ_t...);\n",
    "ncells = map(x-> x[1].ncells, data);"
   ]
  },
  {
   "cell_type": "code",
   "execution_count": 41,
   "metadata": {},
   "outputs": [],
   "source": [
    "output = process_spike_data.(μ_rnt_STR, data; nconds=nconds);\n",
    "μ_ct, σ_ct = getindex.(output, 1), getindex.(output, 2);\n",
    "μ_ct_STR, σ_ct_STR = vcat(μ_ct...), vcat(σ_ct...);"
   ]
  },
  {
   "cell_type": "code",
   "execution_count": 42,
   "metadata": {},
   "outputs": [],
   "source": [
    "f = repeat([\"Softplus\"], sum(ncells))\n",
    "borg = vcat(0,cumsum(ncells))\n",
    "f = [f[i] for i in [borg[i-1]+1:borg[i] for i in 2:length(borg)]];\n",
    "\n",
    "model_STR = neuralDDM(θ=θneural(x_joint[3][setdiff(1:length(x_joint[3]), 8:9)], f), \n",
    "    data=data, n=n, cross=cross);"
   ]
  },
  {
   "cell_type": "code",
   "execution_count": 43,
   "metadata": {},
   "outputs": [],
   "source": [
    "μ_λ_STR, μ_c_λ, = simulate_expected_firing_rate(model_STR; num_samples=20, nconds=nconds); \n",
    "μ_c_λ_STR = vcat(μ_c_λ...);"
   ]
  },
  {
   "cell_type": "code",
   "execution_count": 44,
   "metadata": {},
   "outputs": [],
   "source": [
    "flatall = map(x-> vcat(map(x-> getindex(x, 1:70), x)...), μ_ct_STR);\n",
    "flatsim = map(x-> vcat(map(x-> getindex(x, 1:70), x)...), μ_c_λ_STR);\n",
    "meanall = mean.(flatall);\n",
    "dataminusmean_all = map((x,y) -> x .- y, flatall, meanall);\n",
    "theerror2 = map((x,y) -> x .- y, flatall, flatsim);\n",
    "simR2_STR = 1 .- sum.(map(x-> x.^2, theerror2)) ./ sum.(map(x-> x.^2, dataminusmean_all));"
   ]
  },
  {
   "cell_type": "code",
   "execution_count": 45,
   "metadata": {},
   "outputs": [],
   "source": [
    "choice_inputs = map(x-> PulseInputDDM.choiceinputs(clicks=x.clicks, binned_clicks=x.binned_clicks, \n",
    "    dt=dt, centered=false), getfield.(vcat(data...), :input_data));\n",
    "choice_data = PulseInputDDM.choicedata.(choice_inputs, getfield.(vcat(data...), :choice));\n",
    "choice_STR = getfield.(choice_data, :choice);"
   ]
  },
  {
   "cell_type": "code",
   "execution_count": 46,
   "metadata": {},
   "outputs": [],
   "source": [
    "syn_choice_joint_STR = rand.(Ref(Flatten.reconstruct(θchoice(), x_joint[3][1:9])), choice_inputs, \n",
    "    1:length(choice_inputs));"
   ]
  },
  {
   "cell_type": "code",
   "execution_count": 47,
   "metadata": {},
   "outputs": [],
   "source": [
    "output = map(x-> binLR(x.click_data.binned_clicks, x.click_data.clicks, x.click_data.dt), choice_data);\n",
    "L,R = getindex.(output,1), getindex.(output,2);\n",
    "ΔLR_STR = last.(cumsum.(-L .+ R));"
   ]
  },
  {
   "cell_type": "code",
   "execution_count": 48,
   "metadata": {},
   "outputs": [],
   "source": [
    "mylogit(w) = (w[1]/2 .+ (1 .- w[1]) ./ (1. .+ exp.(-w[2]*ΔLR_STR .+ w[3])));\n",
    "ll(w) = -1 * sum(logpdf.(Bernoulli.(vec(mylogit(w))), choice_STR))\n",
    "obj = OnceDifferentiable(ll, w0; autodiff=:forward)\n",
    "output = Optim.optimize(obj, [0, -Inf, -Inf], [1., Inf, Inf], w0, Fminbox(m));\n",
    "what_data_STR = Optim.minimizer(output);"
   ]
  },
  {
   "cell_type": "code",
   "execution_count": 49,
   "metadata": {},
   "outputs": [],
   "source": [
    "x_STR = sort(ΔLR_STR);\n",
    "idx_STR = sortperm(ΔLR_STR)\n",
    "y_data_STR = mylogit(what_data_STR)[idx_STR];"
   ]
  },
  {
   "cell_type": "code",
   "execution_count": 50,
   "metadata": {},
   "outputs": [],
   "source": [
    "ll(w) = -1 * sum(logpdf.(Bernoulli.(vec(mylogit(w))), syn_choice_joint_STR))\n",
    "output = Optim.optimize(obj, [0, -Inf, -Inf], [1., Inf, Inf], w0, Fminbox(m));\n",
    "what_choice_joint_STR = Optim.minimizer(output);\n",
    "y_choice_joint_STR = mylogit(what_choice_joint_STR)[idx_STR];"
   ]
  },
  {
   "cell_type": "code",
   "execution_count": 51,
   "metadata": {},
   "outputs": [],
   "source": [
    "LR_STR = map(x-> mean(ΔLR_STR[cut(ΔLR_STR, length(labels), labels=labels) .== x]), labels);\n",
    "ys_STR_data = map(x-> choice_STR[cut(ΔLR_STR, length(labels), labels=labels) .== x], labels);\n",
    "CIs_data_STR = collect.(confint.(BinomialTest.(ys_STR_data, mylogit.(Ref(what_data_STR), LR_STR))));"
   ]
  },
  {
   "cell_type": "code",
   "execution_count": 52,
   "metadata": {},
   "outputs": [
    {
     "data": {
      "text/plain": [
       "0.9150305238367362"
      ]
     },
     "metadata": {},
     "output_type": "display_data"
    }
   ],
   "source": [
    "median(simR2_FOF)"
   ]
  },
  {
   "cell_type": "code",
   "execution_count": 53,
   "metadata": {},
   "outputs": [
    {
     "data": {
      "text/plain": [
       "0.7343948044192763"
      ]
     },
     "metadata": {},
     "output_type": "display_data"
    }
   ],
   "source": [
    "median(simR2_PPC)"
   ]
  },
  {
   "cell_type": "code",
   "execution_count": 54,
   "metadata": {},
   "outputs": [
    {
     "data": {
      "text/plain": [
       "0.8644457331677928"
      ]
     },
     "metadata": {},
     "output_type": "display_data"
    }
   ],
   "source": [
    "median(simR2_STR)"
   ]
  },
  {
   "cell_type": "markdown",
   "metadata": {},
   "source": [
    "## Plot"
   ]
  },
  {
   "cell_type": "code",
   "execution_count": 55,
   "metadata": {},
   "outputs": [],
   "source": [
    "using Colors, PyPlot"
   ]
  },
  {
   "cell_type": "code",
   "execution_count": 56,
   "metadata": {},
   "outputs": [],
   "source": [
    "my_colors_STR= map(x-> \"#\"*x, hex.(range(colorant\"#A01892\", stop=colorant\"#E9E62F\", length=nconds)));\n",
    "my_colors_PPC= map(x-> \"#\"*x, hex.(range(colorant\"#1822A0\", stop=colorant\"#E99C2F\", length=nconds)));\n",
    "my_colors_FOF= map(x-> \"#\"*x, hex.(range(colorant\"red\", stop=colorant\"green\", length=nconds)));"
   ]
  },
  {
   "cell_type": "code",
   "execution_count": 59,
   "metadata": {
    "scrolled": false
   },
   "outputs": [],
   "source": [
    "toplot = [8,7,21]\n",
    "toplotPPC = toplot\n",
    "\n",
    "fs = 6\n",
    "\n",
    "rc(\"xtick\", labelsize=fs)\n",
    "rc(\"ytick\", labelsize=fs)\n",
    "rc(\"font\", family=\"sans-serif\")\n",
    "\n",
    "fig, ax = subplots(3, 5, figsize=(1.25 * 5, 1.25 * 3))\n",
    "\n",
    "idxs = [2,5,8]\n",
    "\n",
    "for j in 1:length(toplot) \n",
    "    \n",
    "    if j == 1\n",
    "        ax[idxs[j]].plot(0.12*ones(100), range(0, stop=20, length=100), color=[0.5,0.5,0.5], linestyle=\"-\",\n",
    "        linewidth=1)\n",
    "    elseif j == 2\n",
    "        ax[idxs[j]].plot(0.12*ones(100), range(0, stop=60, length=100), color=[0.5,0.5,0.5], linestyle=\"-\",\n",
    "        linewidth=1)\n",
    "    elseif j == 3\n",
    "        ax[idxs[j]].plot(0.12*ones(100), range(0, stop=20, length=100), color=[0.5,0.5,0.5], linestyle=\"-\", \n",
    "        linewidth=1)\n",
    "    end\n",
    "\n",
    "    for k = 1:nconds   \n",
    "\n",
    "        ax[idxs[j]].fill_between((1:length(μ_ct_PPC[toplot[j]][k]))*dt .-0.2,\n",
    "            μ_ct_PPC[toplot[j]][k] + σ_ct_PPC[toplot[j]][k],\n",
    "            μ_ct_PPC[toplot[j]][k] - σ_ct_PPC[toplot[j]][k],\n",
    "            alpha=0.2, color=my_colors_PPC[k]) \n",
    "        \n",
    "        ax[idxs[j]].plot((1:length(μ_c_λ_PPC[toplot[j]][k]))*dt.-0.2,\n",
    "            μ_c_λ_PPC[toplot[j]][k], color=my_colors_PPC[k])  \n",
    "\n",
    "    end   \n",
    "\n",
    "    ax[idxs[j]].plot((1:length(μ_t_PPC[toplot[j]]))*dt .-0.2,\n",
    "       μ_t_PPC[toplot[j]], color=\"black\") \n",
    "    \n",
    "    ax[idxs[j]].spines[\"right\"].set_visible(false)\n",
    "    ax[idxs[j]].spines[\"top\"].set_visible(false)\n",
    "    ax[idxs[j]].spines[\"bottom\"].set_linewidth(0.5)\n",
    "    ax[idxs[j]].spines[\"left\"].set_linewidth(0.5)\n",
    "    ax[idxs[j]].tick_params(width=0.5, length=2)\n",
    "    ax[idxs[j]].set_xticks(range(0., stop=0.6, length=3))\n",
    "    ax[idxs[j]].set_xticks(range(-0.2, stop=0.6, length=9), minor=true)\n",
    "    ax[idxs[j]].tick_params(which=\"minor\", width=0.5, length=1.5)\n",
    "    \n",
    "    ax[idxs[j]].set_xlim(-0.2, 0.6)\n",
    "    ax[idxs[j]].set_ylim(0., ax[idxs[j]].get_ylim()[2])\n",
    "    \n",
    "    if j == 1\n",
    "        ax[idxs[j]].set_ylim(0., 20.)\n",
    "        ax[idxs[j]].set_yticks(range(0, stop=20, length=3))\n",
    "        ax[idxs[j]].set_yticks(range(0, stop=20, length=5), minor=true)\n",
    "    elseif j == 2\n",
    "        ax[idxs[j]].set_ylim(30., 50.)\n",
    "        ax[idxs[j]].set_yticks(range(30, stop=50, length=3))\n",
    "        ax[idxs[j]].set_yticks(range(30, stop=50, length=5), minor=true)\n",
    "    elseif j == 3\n",
    "        ax[idxs[j]].set_ylim(0., 20.)\n",
    "        ax[idxs[j]].set_yticks(range(0, stop=20, length=3))\n",
    "        ax[idxs[j]].set_yticks(range(0, stop=20, length=5), minor=true)\n",
    "    end\n",
    "\n",
    "end\n",
    "\n",
    "toplot = [10,4,42]\n",
    "toplotSTR = toplot\n",
    "\n",
    "idxs = [3,6,9]\n",
    "\n",
    "for j in 1:length(toplot)  \n",
    "    \n",
    "    if j == 1\n",
    "        ax[idxs[j]].plot(0.06*ones(100), range(0, stop=50, length=100), color=[0.5,0.5,0.5], linestyle=\"-\",\n",
    "        linewidth=1)\n",
    "    elseif j == 2\n",
    "        ax[idxs[j]].plot(0.06*ones(100), range(0, stop=20, length=100), color=[0.5,0.5,0.5], linestyle=\"-\",\n",
    "        linewidth=1)\n",
    "    elseif j == 3\n",
    "        ax[idxs[j]].plot(0.06*ones(100), range(0, stop=32, length=100), color=[0.5,0.5,0.5], linestyle=\"-\", \n",
    "        linewidth=1)\n",
    "    end\n",
    "\n",
    "    for k = 1:nconds   \n",
    "\n",
    "        ax[idxs[j]].fill_between((1:length(μ_ct_STR[toplot[j]][k]))*dt .- 0.2,\n",
    "            μ_ct_STR[toplot[j]][k] + σ_ct_STR[toplot[j]][k],\n",
    "            μ_ct_STR[toplot[j]][k] - σ_ct_STR[toplot[j]][k],\n",
    "            alpha=0.2, color=my_colors_STR[k]) \n",
    "        \n",
    "        ax[idxs[j]].plot((1:length(μ_c_λ_STR[toplot[j]][k]))*dt .- 0.2,\n",
    "            μ_c_λ_STR[toplot[j]][k], color=my_colors_STR[k])  \n",
    "\n",
    "    end   \n",
    "\n",
    "    ax[idxs[j]].plot((1:length(μ_t_STR[toplot[j]]))*dt .- 0.2,\n",
    "       μ_t_STR[toplot[j]], color=\"black\")  \n",
    "    \n",
    "    ax[idxs[j]].spines[\"right\"].set_visible(false)\n",
    "    ax[idxs[j]].spines[\"top\"].set_visible(false)\n",
    "    ax[idxs[j]].spines[\"bottom\"].set_linewidth(0.5)\n",
    "    ax[idxs[j]].spines[\"left\"].set_linewidth(0.5)\n",
    "    ax[idxs[j]].tick_params(width=0.5, length=2)\n",
    "    ax[idxs[j]].set_xticks(range(0., stop=0.6, length=3))\n",
    "    ax[idxs[j]].set_xticks(range(-0.2, stop=0.6, length=9), minor=true)\n",
    "    ax[idxs[j]].tick_params(which=\"minor\", width=0.5, length=1.5)\n",
    "    \n",
    "    ax[idxs[j]].set_xlim(-0.2, 0.6)\n",
    "    ax[idxs[j]].set_ylim(0., ax[idxs[j]].get_ylim()[2])\n",
    "    \n",
    "    if j == 1\n",
    "        ax[idxs[j]].set_ylim(0., 50.)\n",
    "        ax[idxs[j]].set_yticks(range(0, stop=40, length=3))\n",
    "        ax[idxs[j]].set_yticks(range(0, stop=50, length=6), minor=true)\n",
    "    elseif j == 2\n",
    "        ax[idxs[j]].set_ylim(0., 20.)\n",
    "        ax[idxs[j]].set_yticks(range(0, stop=20, length=3))\n",
    "        ax[idxs[j]].set_yticks(range(0, stop=20, length=5), minor=true)\n",
    "    elseif j == 3\n",
    "        ax[idxs[j]].set_ylim(0., 10.)\n",
    "        ax[idxs[j]].set_yticks(range(0, stop=10, length=2))\n",
    "        ax[idxs[j]].set_yticks(range(0, stop=10, length=3), minor=true)\n",
    "    end\n",
    "\n",
    "end\n",
    "\n",
    "toplot = [39, 33, 52]\n",
    "toplotFOF = toplot\n",
    "\n",
    "idxs = [1,4,7]\n",
    "\n",
    "for j in 1:length(toplot) \n",
    "    \n",
    "    if j == 1\n",
    "        ax[idxs[j]].plot(0.06*ones(100), range(0, stop=50, length=100), color=[0.5,0.5,0.5], linestyle=\"-\",\n",
    "        linewidth=1)\n",
    "    elseif j == 2\n",
    "        ax[idxs[j]].plot(0.06*ones(100), range(0, stop=90, length=100), color=[0.5,0.5,0.5], linestyle=\"-\",\n",
    "        linewidth=1)\n",
    "    elseif j == 3\n",
    "        ax[idxs[j]].plot(0.06*ones(100), range(0, stop=15, length=100), color=[0.5,0.5,0.5], linestyle=\"-\", \n",
    "        linewidth=1)\n",
    "    end\n",
    "\n",
    "    for k = 1:nconds   \n",
    "\n",
    "        ax[idxs[j]].fill_between((1:length(μ_ct_FOF[toplot[j]][k]))*dt .- 0.2,\n",
    "            μ_ct_FOF[toplot[j]][k] + σ_ct_FOF[toplot[j]][k],\n",
    "            μ_ct_FOF[toplot[j]][k] - σ_ct_FOF[toplot[j]][k],\n",
    "            alpha=0.2, color=my_colors_FOF[k]) \n",
    "        \n",
    "        ax[idxs[j]].plot((1:length(μ_c_λ_FOF[toplot[j]][k]))*dt .- 0.2,\n",
    "            μ_c_λ_FOF[toplot[j]][k], color=my_colors_FOF[k])  \n",
    "\n",
    "    end   \n",
    "\n",
    "    ax[idxs[j]].plot((1:length(μ_t_FOF[toplot[j]]))*dt .- 0.2,\n",
    "       μ_t_FOF[toplot[j]], color=\"black\")  \n",
    "    \n",
    "    ax[idxs[j]].set_xlim(-0.2, 0.6)\n",
    "    ax[idxs[j]].set_ylim(0., ax[idxs[j]].get_ylim()[2])\n",
    "    ax[idxs[j]].spines[\"right\"].set_visible(false)\n",
    "    ax[idxs[j]].spines[\"top\"].set_visible(false)\n",
    "    ax[idxs[j]].spines[\"bottom\"].set_linewidth(0.5)\n",
    "    ax[idxs[j]].spines[\"left\"].set_linewidth(0.5)\n",
    "    ax[idxs[j]].tick_params(width=0.5, length=2)\n",
    "    ax[idxs[j]].set_xticks(range(0., stop=0.6, length=3))\n",
    "    ax[idxs[j]].set_xticks(range(-0.2, stop=0.6, length=9), minor=true)\n",
    "    ax[idxs[j]].tick_params(which=\"minor\", width=0.5, length=1.5)\n",
    "    \n",
    "    if j == 1\n",
    "        ax[idxs[j]].set_ylim(0., 20.)\n",
    "        ax[idxs[j]].set_yticks(range(0, stop=20, length=3))\n",
    "        ax[idxs[j]].set_yticks(range(0, stop=20, length=5), minor=true)\n",
    "    elseif j == 2\n",
    "        ax[idxs[j]].set_ylim(0., 90.)\n",
    "        ax[idxs[j]].set_yticks(range(0, stop=80, length=5))\n",
    "        ax[idxs[j]].set_yticks(range(0, stop=90, length=10), minor=true)\n",
    "    elseif j == 3\n",
    "        ax[idxs[j]].set_ylim(0., 15.)\n",
    "        ax[idxs[j]].set_yticks(range(0, stop=15, length=4))\n",
    "        ax[idxs[j]].set_yticks(range(0, stop=15, length=4), minor=true)\n",
    "    end\n",
    "\n",
    "end\n",
    "\n",
    "ax[11].plot(mean.(μ_t_PPC), simR2_PPC, \".\", color=\"#1822A0\", markersize=4, alpha=0.4)\n",
    "ax[11].plot(mean.(μ_t_PPC)[toplotPPC], simR2_PPC[toplotPPC], \"*\", color=\"#1822A0\", markersize=8)\n",
    "ax[11].plot(range(0., stop=65,length=100), median(simR2_PPC)*ones(100), color=\"#1822A0\")\n",
    "ax[11].set_ylim(0., 1.0)\n",
    "\n",
    "ax[12].plot(mean.(μ_t_STR), simR2_STR, \".\", color=\"#A01892\", markersize=4, alpha=0.4)\n",
    "ax[12].plot(mean.(μ_t_STR)[toplotSTR], simR2_STR[toplotSTR], \"*\", color=\"#A01892\", markersize=8)\n",
    "ax[12].set_ylim(0., 1.0)\n",
    "ax[12].plot(range(0., stop=65,length=100), median(simR2_STR)*ones(100), color=\"#A01892\")\n",
    "\n",
    "ax[10].plot(mean.(μ_t_FOF), simR2_FOF, \".\", color=\"red\", markersize=4, alpha=0.4)\n",
    "ax[10].plot(mean.(μ_t_FOF)[toplotFOF], simR2_FOF[toplotFOF], \"*\", color=\"red\", markersize=8)\n",
    "ax[10].set_ylim(0., 1.0)\n",
    "ax[10].plot(range(0., stop=65,length=100), median(simR2_FOF)*ones(100), color=\"red\")\n",
    "[ax[i].set_yticks(range(0, stop=1., length=3)) for i in 10:12]\n",
    "\n",
    "for j = 10:12\n",
    "    ax[j].spines[\"right\"].set_visible(false)\n",
    "    ax[j].spines[\"top\"].set_visible(false)\n",
    "    ax[j].spines[\"bottom\"].set_linewidth(0.5)\n",
    "    ax[j].spines[\"left\"].set_linewidth(0.5)\n",
    "    ax[j].tick_params(width=0.5, length=2)\n",
    "    ax[j].set_yticks(range(0, stop=1, length=3))\n",
    "    ax[j].set_yticks(range(0, stop=1, length=11), minor=true)\n",
    "    ax[j].set_xticks(range(0, stop=60, length=3))\n",
    "    ax[j].set_xticks(range(0, stop=60, length=7), minor=true)\n",
    "    ax[j].tick_params(which=\"minor\", width=0.5, length=1.5)\n",
    "    ax[j].set_ylim(0, 1.1)\n",
    "    ax[j].set_xlim(-5, 65)\n",
    "end\n",
    "\n",
    "j = 13\n",
    "ax[j].plot(x_FOF, y_data_FOF, label=\"data\", color=\"black\", linestyle=\"-\", linewidth=1)\n",
    "ax[j].boxplot(CIs_data_FOF, positions=LR_FOF, widths=10, notch=false, showfliers=false, showcaps=false, whis=[25,75],\n",
    "            manage_ticks=false, medianprops=Dict(\"linestyle\" => \"none\"),\n",
    "            boxprops=Dict(\"linestyle\" => \"-\", \"color\" => [0.2, 0.2, 0.2]))\n",
    "ax[j].plot(x_FOF, y_choice_joint_FOF, label=\"joint\", color=\"red\", linestyle=\"-\", linewidth=2)\n",
    "ax[j].spines[\"right\"].set_visible(false)\n",
    "ax[j].spines[\"top\"].set_visible(false)\n",
    "ax[j].spines[\"bottom\"].set_linewidth(0.5)\n",
    "ax[j].spines[\"left\"].set_linewidth(0.5)\n",
    "ax[j].tick_params(width=0.5, length=2)\n",
    "ax[j].set_yticks(range(0, stop=1, length=3))\n",
    "ax[j].set_yticks(range(0, stop=1, length=11), minor=true)\n",
    "ax[j].set_xticks(range(-40, stop=40, length=3))\n",
    "ax[j].set_xticks(range(-50, stop=50, length=11), minor=true)\n",
    "ax[j].tick_params(which=\"minor\", width=0.5, length=1.5)\n",
    "ax[j].set_ylim(0, 1)\n",
    "ax[j].set_xlim(-55, 55)\n",
    "\n",
    "j = 14\n",
    "ax[j].plot(x_PPC, y_data_PPC, label=\"data\", color=\"black\", linestyle=\"-\", linewidth=1)\n",
    "ax[j].boxplot(CIs_data_PPC, positions=LR_PPC, widths=10, notch=false, showfliers=false, showcaps=false, whis=[25,75],\n",
    "            manage_ticks=false, medianprops=Dict(\"linestyle\" => \"none\"),\n",
    "            boxprops=Dict(\"linestyle\" => \"-\", \"color\" => [0.2, 0.2, 0.2]))\n",
    "ax[j].plot(x_PPC, y_choice_joint_PPC, label=\"joint\", color=\"#1822A0\", linestyle=\"-\", linewidth=2)\n",
    "ax[j].spines[\"right\"].set_visible(false)\n",
    "ax[j].spines[\"top\"].set_visible(false)\n",
    "ax[j].spines[\"bottom\"].set_linewidth(0.5)\n",
    "ax[j].spines[\"left\"].set_linewidth(0.5)\n",
    "ax[j].tick_params(width=0.5, length=2)\n",
    "ax[j].set_yticks(range(0, stop=1, length=3))\n",
    "ax[j].set_yticks(range(0, stop=1, length=11), minor=true)\n",
    "ax[j].set_xticks(range(-40, stop=40, length=3))\n",
    "ax[j].set_xticks(range(-50, stop=50, length=11), minor=true)\n",
    "ax[j].tick_params(which=\"minor\", width=0.5, length=1.5)\n",
    "ax[j].set_ylim(0, 1)\n",
    "ax[j].set_xlim(-55, 55)\n",
    "\n",
    "j = 15\n",
    "ax[j].plot(x_STR, y_data_STR, label=\"data\", color=\"black\", linestyle=\"-\", linewidth=1)\n",
    "ax[j].boxplot(CIs_data_STR, positions=LR_STR, widths=10, notch=false, showfliers=false, showcaps=false, whis=[25,75],\n",
    "            manage_ticks=false, medianprops=Dict(\"linestyle\" => \"none\"),\n",
    "            boxprops=Dict(\"linestyle\" => \"-\", \"color\" => [0.2, 0.2, 0.2]))\n",
    "ax[j].plot(x_STR, y_choice_joint_STR, label=\"joint\", color=\"#A01892\", linestyle=\"-\",\n",
    "    linewidth=2)\n",
    "ax[j].spines[\"right\"].set_visible(false)\n",
    "ax[j].spines[\"top\"].set_visible(false)\n",
    "ax[j].spines[\"bottom\"].set_linewidth(0.5)\n",
    "ax[j].spines[\"left\"].set_linewidth(0.5)\n",
    "ax[j].tick_params(width=0.5, length=2)\n",
    "ax[j].set_yticks(range(0, stop=1, length=3))\n",
    "ax[j].set_yticks(range(0, stop=1, length=11), minor=true)\n",
    "ax[j].set_xticks(range(-40, stop=40, length=3))\n",
    "ax[j].set_xticks(range(-50, stop=50, length=11), minor=true)\n",
    "ax[j].tick_params(which=\"minor\", width=0.5, length=1.5)\n",
    "ax[j].set_ylim(0, 1)\n",
    "ax[j].set_xlim(-55, 55)\n",
    "\n",
    "tight_layout() \n",
    "display(gcf())\n",
    "close(gcf())\n",
    "#PyPlot.savefig(joinpath(abspath(joinpath(pwd(), \"..\")), \"figs/\")*\"Fig2.pdf\")"
   ]
  },
  {
   "cell_type": "code",
   "execution_count": 58,
   "metadata": {},
   "outputs": [],
   "source": []
  }
 ],
 "metadata": {
  "kernelspec": {
   "display_name": "Julia 1.10.4",
   "language": "julia",
   "name": "julia-1.10"
  },
  "language_info": {
   "file_extension": ".jl",
   "mimetype": "application/julia",
   "name": "julia",
   "version": "1.10.4"
  }
 },
 "nbformat": 4,
 "nbformat_minor": 2
}
