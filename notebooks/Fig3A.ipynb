{
 "cells": [
  {
   "cell_type": "code",
   "execution_count": null,
   "metadata": {},
   "outputs": [],
   "source": [
    "@everywhere using PulseInputDDM, MAT, LinearAlgebra"
   ]
  },
  {
   "cell_type": "code",
   "execution_count": null,
   "metadata": {},
   "outputs": [],
   "source": [
    "x_joint = Vector(undef, 3);\n",
    "H_joint = Vector(undef, 3);\n",
    "CIs_joint = Vector(undef, 3);"
   ]
  },
  {
   "cell_type": "code",
   "execution_count": null,
   "metadata": {},
   "outputs": [],
   "source": [
    "x_choice = Vector(undef, 3);\n",
    "H_choice = Vector(undef, 3);\n",
    "CIs_choice = Vector(undef, 3);"
   ]
  },
  {
   "cell_type": "code",
   "execution_count": null,
   "metadata": {},
   "outputs": [],
   "source": [
    "joint_model_path = joinpath(abspath(joinpath(pwd(), \"..\")), \"models/joint\");\n",
    "choice_model_path = joinpath(abspath(joinpath(pwd(), \"..\")), \"models/choice\");"
   ]
  },
  {
   "cell_type": "markdown",
   "metadata": {},
   "source": [
    "## FOF"
   ]
  },
  {
   "cell_type": "code",
   "execution_count": null,
   "metadata": {},
   "outputs": [],
   "source": [
    "region = \"FOF\""
   ]
  },
  {
   "cell_type": "code",
   "execution_count": null,
   "metadata": {},
   "outputs": [],
   "source": [
    "file = joinpath(joint_model_path, \"Fig2-FOF.mat\")\n",
    "xf = read(matopen(file), \"ML_params\") \n",
    "x_joint[1] = xf;"
   ]
  },
  {
   "cell_type": "code",
   "execution_count": null,
   "metadata": {},
   "outputs": [],
   "source": [
    "file = joinpath(choice_model_path, region*\".mat\")\n",
    "x_choice[1] = read(matopen(file), \"ML_params\");"
   ]
  },
  {
   "cell_type": "code",
   "execution_count": null,
   "metadata": {},
   "outputs": [],
   "source": [
    "file = matopen(joinpath(joint_model_path, \"FOF_hessian.mat\"))\n",
    "H_joint[1] = read(file, \"H\")\n",
    "close(file)\n",
    "CIs_joint[1] = hcat(-2*sqrt.(diag(inv(H_joint[1]))), 2*sqrt.(diag(inv(H_joint[1]))));"
   ]
  },
  {
   "cell_type": "code",
   "execution_count": null,
   "metadata": {},
   "outputs": [],
   "source": [
    "file = matopen(joinpath(choice_model_path, region*\"_hessian.mat\"))\n",
    "H_choice[1] = read(file, \"H\")\n",
    "close(file)\n",
    "CIs_choice[1] = hcat(-2*sqrt.(diag(inv(H_choice[1]))), 2*sqrt.(diag(inv(H_choice[1]))));"
   ]
  },
  {
   "cell_type": "markdown",
   "metadata": {},
   "source": [
    "## PPC"
   ]
  },
  {
   "cell_type": "code",
   "execution_count": null,
   "metadata": {},
   "outputs": [],
   "source": [
    "region = \"PPC\""
   ]
  },
  {
   "cell_type": "code",
   "execution_count": null,
   "metadata": {},
   "outputs": [],
   "source": [
    "file = joinpath(joint_model_path, \"Fig2-PPC.mat\")\n",
    "xf = read(matopen(file), \"ML_params\")\n",
    "x_joint[2] = xf;"
   ]
  },
  {
   "cell_type": "code",
   "execution_count": null,
   "metadata": {},
   "outputs": [],
   "source": [
    "file = joinpath(choice_model_path, region*\".mat\")\n",
    "x_choice[2] = read(matopen(file), \"ML_params\");"
   ]
  },
  {
   "cell_type": "code",
   "execution_count": null,
   "metadata": {},
   "outputs": [],
   "source": [
    "file = matopen(joinpath(joint_model_path, \"PPC_hessian.mat\"))\n",
    "H_joint[2] = read(file, \"H\")\n",
    "close(file)\n",
    "CIs_joint[2] = hcat(-2*sqrt.(diag(inv(H_joint[2]))), 2*sqrt.(diag(inv(H_joint[2]))));"
   ]
  },
  {
   "cell_type": "code",
   "execution_count": null,
   "metadata": {},
   "outputs": [],
   "source": [
    "file = matopen(joinpath(choice_model_path, region*\"_hessian.mat\"))\n",
    "H_choice[2] = read(file, \"H\")\n",
    "close(file)\n",
    "CIs_choice[2] = hcat(-2*sqrt.(diag(inv(H_choice[2]))), 2*sqrt.(diag(inv(H_choice[2]))));"
   ]
  },
  {
   "cell_type": "markdown",
   "metadata": {},
   "source": [
    "## ADS"
   ]
  },
  {
   "cell_type": "code",
   "execution_count": null,
   "metadata": {},
   "outputs": [],
   "source": [
    "region = \"ADS\""
   ]
  },
  {
   "cell_type": "code",
   "execution_count": null,
   "metadata": {},
   "outputs": [],
   "source": [
    "file = joinpath(joint_model_path, \"Fig2-ADS.mat\")\n",
    "xf = read(matopen(file), \"ML_params\")\n",
    "x_joint[3] = xf;"
   ]
  },
  {
   "cell_type": "code",
   "execution_count": null,
   "metadata": {},
   "outputs": [],
   "source": [
    "file = joinpath(choice_model_path, region*\".mat\")\n",
    "x_choice[3] = read(matopen(file), \"ML_params\");"
   ]
  },
  {
   "cell_type": "code",
   "execution_count": null,
   "metadata": {},
   "outputs": [],
   "source": [
    "file = matopen(joinpath(joint_model_path, \"ADS_hessian.mat\"))\n",
    "H_joint[3] = read(file, \"H\")\n",
    "close(file)\n",
    "CIs_joint[3] = hcat(-2*sqrt.(diag(inv(H_joint[3]))), 2*sqrt.(diag(inv(H_joint[3]))));"
   ]
  },
  {
   "cell_type": "code",
   "execution_count": null,
   "metadata": {},
   "outputs": [],
   "source": [
    "file = matopen(joinpath(choice_model_path, region*\"_hessian.mat\"))\n",
    "H_choice[3] = read(file, \"H\")\n",
    "close(file)\n",
    "CIs_choice[3] = hcat(-2*sqrt.(diag(inv(H_choice[3]))), 2*sqrt.(diag(inv(H_choice[3]))));"
   ]
  },
  {
   "cell_type": "markdown",
   "metadata": {},
   "source": [
    "## Adjust CIs that become negative"
   ]
  },
  {
   "cell_type": "code",
   "execution_count": null,
   "metadata": {},
   "outputs": [],
   "source": [
    "CIs22 = map(x-> x[1:7,:], CIs_joint);\n",
    "\n",
    "bad = map((x,y) -> (y[:,1] + x[1:7] .< 0),  x_joint, CIs22)\n",
    "map(x-> x[3] = 0, bad)\n",
    "\n",
    "CIs22[1][bad[1],1] = abs.(max.(0., (CIs22[1][bad[1],1] + x_joint[1][1:7][bad[1]])) - x_joint[1][1:7][bad[1]]);\n",
    "CIs22[2][bad[2],1] = abs.(max.(0., (CIs22[2][bad[2],1] + x_joint[2][1:7][bad[2]])) - x_joint[2][1:7][bad[2]]);\n",
    "CIs22[3][bad[3],1] = abs.(max.(0., (CIs22[3][bad[3],1] + x_joint[3][1:7][bad[3]])) - x_joint[3][1:7][bad[3]]);\n",
    "CIs22 = map(x-> abs.(x), CIs22);"
   ]
  },
  {
   "cell_type": "code",
   "execution_count": null,
   "metadata": {},
   "outputs": [],
   "source": [
    "CIs22_choice = map(x-> x[1:7,:], CIs_choice);\n",
    "\n",
    "bad = map((x,y) -> (y[:,1] + x[1:7] .< 0),  x_choice, CIs22_choice)\n",
    "map(x-> x[3] = 0, bad)\n",
    "\n",
    "CIs22_choice[1][bad[1],1] = abs.(max.(0., (CIs22_choice[1][bad[1],1] + x_choice[1][1:7][bad[1]])) - x_choice[1][1:7][bad[1]]);\n",
    "CIs22_choice[2][bad[2],1] = abs.(max.(0., (CIs22_choice[2][bad[2],1] + x_choice[2][1:7][bad[2]])) - x_choice[2][1:7][bad[2]]);\n",
    "CIs22_choice[3][bad[3],1] = abs.(max.(0., (CIs22_choice[3][bad[3],1] + x_choice[3][1:7][bad[3]])) - x_choice[3][1:7][bad[3]]);\n",
    "CIs22_choice = map(x-> abs.(x), CIs22_choice);"
   ]
  },
  {
   "cell_type": "markdown",
   "metadata": {},
   "source": [
    "## Scale stimulus noise by the average number of clicks in a trial (40)"
   ]
  },
  {
   "cell_type": "code",
   "execution_count": null,
   "metadata": {},
   "outputs": [],
   "source": [
    "map(x-> x[5] = 40 * x[5], x_joint);\n",
    "map(x-> x[5] = 40 * x[5], x_choice);\n",
    "map(x-> x[5,:] = 40 * x[5,:], CIs22_choice);\n",
    "map(x-> x[5,:] = 40 * x[5,:], CIs22);"
   ]
  },
  {
   "cell_type": "markdown",
   "metadata": {},
   "source": [
    "## Plot"
   ]
  },
  {
   "cell_type": "code",
   "execution_count": null,
   "metadata": {},
   "outputs": [],
   "source": [
    "ps = [\"\\$\\\\sigma_i\\$\", \"B\", \"λ\", \"\\$\\\\sigma_a\\$\", \"\\$\\\\sigma_s\\$\", \"ϕ\", \"\\$\\\\tau_\\\\phi\\$\"];"
   ]
  },
  {
   "cell_type": "code",
   "execution_count": null,
   "metadata": {},
   "outputs": [],
   "source": [
    "using Colors, PyPlot\n",
    "my_colors_STR= map(x-> \"#\"*x, hex.(range(colorant\"#A01892\", stop=colorant\"#E9E62F\", length=2)));\n",
    "my_colors_PPC= map(x-> \"#\"*x, hex.(range(colorant\"#1822A0\", stop=colorant\"#E99C2F\", length=2)));\n",
    "my_colors_FOF= map(x-> \"#\"*x, hex.(range(colorant\"red\", stop=colorant\"green\", length=2)));"
   ]
  },
  {
   "cell_type": "code",
   "execution_count": null,
   "metadata": {},
   "outputs": [],
   "source": [
    "figure(figsize=(5, 2.5), dpi=300, frameon=true)\n",
    "elinewidth=0.75\n",
    "\n",
    "fs = 6\n",
    "ms = 2\n",
    "cs = 1.5\n",
    "mycolors = [\"red\", \"#1822A0\", \"#A01892\"]\n",
    "\n",
    "rc(\"xtick\", labelsize=fs)\n",
    "rc(\"ytick\", labelsize=fs)\n",
    "rc(\"font\", family=\"sans-serif\")\n",
    "\n",
    "tot_rats = length(mycolors)\n",
    "blahs = vcat([\"joint\", \"choice\"], [\"joint\", \"choice\"], \n",
    "    [\"joint\", \"choice\"])\n",
    "subplts = vcat(1:3:7*3, 2:3:7*3, 3:3:7*3)\n",
    "plt1 = [1.2,3.2,5.2]\n",
    "plt2 = [1.8,3.8,5.8]\n",
    "\n",
    "for i = 1:7\n",
    "    \n",
    "    subplot(2,4,i)  \n",
    "    j = 1\n",
    "    errorbar([1], vcat(x_joint[j][i]), \n",
    "        vcat(CIs22[j][i]), elinewidth=elinewidth, capsize=cs, \n",
    "        ecolor=my_colors_FOF[1], \n",
    "            fmt=\"o\", color=my_colors_FOF[1], markersize=ms, linestyle=\"-\", linewidth=1)\n",
    "    \n",
    "    errorbar([2], vcat(x_choice[j][i]), \n",
    "        vcat(CIs22_choice[j][i]), elinewidth=elinewidth, capsize=cs, \n",
    "        ecolor=\"k\", \n",
    "            fmt=\"o\", color=\"k\", markersize=ms, linestyle=\"-\", linewidth=1)\n",
    "    plot(1:2, vcat(x_joint[j][i], x_choice[j][i]), color=my_colors_FOF[1], \n",
    "        linestyle=\"-\", linewidth=1)\n",
    "    \n",
    "    j = 2\n",
    "    errorbar([3], vcat(x_joint[j][i]), \n",
    "        vcat(CIs22[j][i]), elinewidth=elinewidth, capsize=cs, \n",
    "        ecolor=my_colors_PPC[1], \n",
    "                fmt=\"o\", color=my_colors_PPC[1], markersize=ms, linestyle=\"-\", linewidth=1)\n",
    "    plot(3:4, vcat(x_joint[j][i], x_choice[j][i]), color=my_colors_PPC[1], \n",
    "        linestyle=\"-\", linewidth=1)\n",
    "    \n",
    "    errorbar([4], vcat(x_choice[j][i]), \n",
    "        vcat(CIs22_choice[j][i]), elinewidth=elinewidth, capsize=cs, \n",
    "        ecolor=\"k\", fmt=\"o\", color=\"k\", markersize=ms, linestyle=\"-\", linewidth=1)\n",
    "    \n",
    "    j = 3\n",
    "    errorbar([5], vcat(x_joint[j][i]),\n",
    "        vcat(CIs22[j][i]), elinewidth=elinewidth, capsize=cs, \n",
    "        ecolor=my_colors_STR[1], \n",
    "            fmt=\"o\", color=my_colors_STR[1], markersize=ms, linestyle=\"-\", linewidth=1)\n",
    "    \n",
    "    errorbar([6], vcat(x_choice[j][i]),\n",
    "        vcat(CIs22_choice[j][i]), elinewidth=elinewidth, capsize=cs, \n",
    "        ecolor=\"k\", \n",
    "            fmt=\"o\", color=\"k\", markersize=ms, linestyle=\"-\", linewidth=1)\n",
    "    plot(5:6, vcat(x_joint[j][i], x_choice[j][i]), color=my_colors_STR[1], \n",
    "        linestyle=\"-\", linewidth=1)\n",
    "\n",
    "    ylabel(ps[i], fontsize=fs)\n",
    "    xlim(0.5,6.5)\n",
    "    \n",
    "    ax = gca()\n",
    "    ax.xaxis.set_ticks_position(\"bottom\")\n",
    "    ax.spines[\"right\"].set_visible(false)\n",
    "    ax.spines[\"top\"].set_visible(false)\n",
    "    ax.spines[\"left\"].set_linewidth(0.5)\n",
    "    ax.tick_params(width=0.5, length=2)\n",
    "    \n",
    "    if i == 1\n",
    "        ylim(0, 55)\n",
    "        ax.set_yticks(range(0, stop=40, length=3), minor=false)  \n",
    "        ax.set_yticks(range(0, stop=50, length=6), minor=true)\n",
    "        #ax.xaxis.set_visible(false)\n",
    "        ax.spines[\"bottom\"].set_visible(false)\n",
    "    elseif i == 2\n",
    "        ylim(-3, 55)\n",
    "        ax.set_yticks(range(0, stop=40, length=3), minor=false)  \n",
    "        ax.set_yticks(range(0, stop=50, length=6), minor=true)\n",
    "        #ax.xaxis.set_visible(false)\n",
    "        ax.spines[\"bottom\"].set_visible(false)\n",
    "    elseif i == 3\n",
    "        ylim(-2.5, 2.5) \n",
    "        ax.set_yticks(range(-2, stop=2, length=5), minor=false)  \n",
    "        ax.set_yticks(range(-2.5, stop=2.5, length=11), minor=true)\n",
    "        #ax.xaxis.set_visible(false)\n",
    "        ax.spines[\"bottom\"].set_visible(false)\n",
    "    elseif i == 4\n",
    "        ylim(-10, 300)\n",
    "        ax.set_yticks(range(0, stop=300, length=4), minor=false)  \n",
    "        ax.set_yticks(range(0, stop=300, length=7), minor=true)\n",
    "        #ax.xaxis.set_visible(false)\n",
    "        ax.spines[\"bottom\"].set_visible(false)\n",
    "    elseif i == 5\n",
    "        ylim(40 * -0.5, 40 * 9)\n",
    "        ax.set_yticks(range(0, stop=40 * 8, length=5), minor=false)  \n",
    "        ax.set_yticks(range(0, stop=40 * 9, length=10), minor=true)\n",
    "        #ax.xaxis.set_visible(false)\n",
    "        ax.spines[\"bottom\"].set_visible(false)\n",
    "    elseif i == 6\n",
    "        ylim(-0.05, 0.8)\n",
    "        ax.set_yticks(range(0, stop=0.8, length=5), minor=false)\n",
    "        ax.set_yticks(range(0, stop=0.8, length=9), minor=true)\n",
    "        #ax.xaxis.set_visible(false)\n",
    "        ax.spines[\"bottom\"].set_visible(false)\n",
    "    elseif i == 7\n",
    "        ylim(0., 0.10)\n",
    "        ax.set_yticks(range(0, stop=0.1, length=3), minor=false)  \n",
    "        ax.set_yticks(range(0, stop=0.1, length=11), minor=true)\n",
    "        ax.spines[\"bottom\"].set_linewidth(0.5)\n",
    "    end\n",
    "    \n",
    "    xticks(vcat(1:6), blahs, rotation=90) \n",
    "    \n",
    "end\n",
    "\n",
    "tight_layout()\n",
    "display(gcf())\n",
    "close(gcf())\n",
    "#PyPlot.savefig(joinpath(abspath(joinpath(pwd(), \"..\")), \"figs/\")*\"Fig3A.pdf\")"
   ]
  },
  {
   "cell_type": "code",
   "execution_count": null,
   "metadata": {},
   "outputs": [],
   "source": []
  }
 ],
 "metadata": {
  "kernelspec": {
   "display_name": "Julia 1.5.0",
   "language": "julia",
   "name": "julia-1.5"
  },
  "language_info": {
   "file_extension": ".jl",
   "mimetype": "application/julia",
   "name": "julia",
   "version": "1.5.0"
  }
 },
 "nbformat": 4,
 "nbformat_minor": 2
}
